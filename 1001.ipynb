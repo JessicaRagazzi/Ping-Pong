{
  "nbformat": 4,
  "nbformat_minor": 0,
  "metadata": {
    "colab": {
      "name": "1001.ipynb",
      "provenance": [],
      "authorship_tag": "ABX9TyP/dACYEUwTsPwdEHIkbEPe",
      "include_colab_link": true
    },
    "kernelspec": {
      "name": "python3",
      "display_name": "Python 3"
    },
    "language_info": {
      "name": "python"
    }
  },
  "cells": [
    {
      "cell_type": "markdown",
      "metadata": {
        "id": "view-in-github",
        "colab_type": "text"
      },
      "source": [
        "<a href=\"https://colab.research.google.com/github/JessicaRagazzi/Ping-Pong/blob/main/1001.ipynb\" target=\"_parent\"><img src=\"https://colab.research.google.com/assets/colab-badge.svg\" alt=\"Open In Colab\"/></a>"
      ]
    },
    {
      "cell_type": "code",
      "execution_count": 13,
      "metadata": {
        "colab": {
          "base_uri": "https://localhost:8080/"
        },
        "id": "KmZb6AaLFwzr",
        "outputId": "492c7ea3-8250-4634-ac0f-0241ffbca910"
      },
      "outputs": [
        {
          "output_type": "stream",
          "name": "stdout",
          "text": [
            "Digite um número 2\n",
            "Digite outro número 3\n",
            "X = 23\n"
          ]
        }
      ],
      "source": [
        "# 1001\n",
        "\n",
        "a = input('Digite um número ');\n",
        "b = input('Digite outro número ');\n",
        "\n",
        "X = a + b \n",
        "\n",
        "print ('X = ' + X)"
      ]
    }
  ]
}